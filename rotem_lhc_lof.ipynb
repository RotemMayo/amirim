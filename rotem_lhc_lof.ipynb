{
 "cells": [
  {
   "cell_type": "code",
   "execution_count": 4,
   "metadata": {
    "collapsed": true
   },
   "outputs": [],
   "source": [
    "import pandas as pd\n",
    "import numpy as np\n",
    "from collections import Counter\n",
    "from sklearn.ensemble import IsolationForest\n",
    "from sklearn.ensemble import RandomForestRegressor\n",
    "from sklearn.ensemble import RandomForestClassifier\n",
    "import time\n",
    "from sklearn import metrics\n",
    "from sklearn.model_selection import train_test_split\n",
    "from sklearn.preprocessing import StandardScaler\n",
    "import os\n",
    "\n",
    "import time"
   ]
  },
  {
   "cell_type": "code",
   "execution_count": 5,
   "outputs": [],
   "source": [
    "data = open('./mayo_events', 'r').read()\n",
    "second_dataset = [[float(j) for j in i.split(',')] for i in data.split('\\n') if len(i) > 0]\n",
    "sorted_second_dataset = sorted(second_dataset, key = lambda i: i[3])\n",
    "first_signal_index = len(sorted_second_dataset) - sum([i[3] for i in sorted_second_dataset])\n",
    "SECOND_LABEL_INDEX = 3"
   ],
   "metadata": {
    "collapsed": false,
    "pycharm": {
     "name": "#%%\n"
    }
   }
  },
  {
   "cell_type": "code",
   "execution_count": 6,
   "outputs": [],
   "source": [
    "second_data_set = [i[0 : SECOND_LABEL_INDEX] for i in sorted_second_dataset]\n",
    "is_signal = lambda i: i > first_signal_index\n",
    "sc = StandardScaler()\n",
    "second_scaled_data_set = sc.fit_transform(second_data_set)"
   ],
   "metadata": {
    "collapsed": false,
    "pycharm": {
     "name": "#%%\n"
    }
   }
  },
  {
   "cell_type": "code",
   "execution_count": 10,
   "outputs": [
    {
     "name": "stdout",
     "output_type": "stream",
     "text": [
      "total tested 1100288\n",
      "found signal 455\n",
      "real  signal 22\n",
      "ratio signal 0.04835164835164835\n"
     ]
    }
   ],
   "source": [
    "import os\n",
    "from sklearn.neighbors import LocalOutlierFactor\n",
    "\n",
    "perdictor = LocalOutlierFactor()\n",
    "# perdictor = LocalOutlierFactor(n_neighbors=35, contamination=0.09, n_jobs=10)\n",
    "y_pred = perdictor.fit_predict(second_scaled_data_set)\n",
    "\n",
    "pred_signal = [i for i in range(len(y_pred)) if y_pred[i] != 1]\n",
    "count_real_signal = len([i for i in pred_signal if is_signal(i)])\n",
    "print(f\"total tested {len(y_pred)}\")\n",
    "print(f\"found signal {len(pred_signal)}\")\n",
    "print(f\"real  signal {count_real_signal}\")\n",
    "print(f\"ratio signal {count_real_signal / len(pred_signal)}\")"
   ],
   "metadata": {
    "collapsed": false,
    "pycharm": {
     "name": "#%%\n"
    }
   }
  },
  {
   "cell_type": "code",
   "execution_count": 11,
   "outputs": [
    {
     "ename": "ModuleNotFoundError",
     "evalue": "No module named 'energyflow'",
     "output_type": "error",
     "traceback": [
      "\u001B[0;31m---------------------------------------------------------------------------\u001B[0m",
      "\u001B[0;31mModuleNotFoundError\u001B[0m                       Traceback (most recent call last)",
      "\u001B[0;32m<ipython-input-11-158f69a498f8>\u001B[0m in \u001B[0;36m<module>\u001B[0;34m\u001B[0m\n\u001B[0;32m----> 1\u001B[0;31m \u001B[0;32mimport\u001B[0m \u001B[0menergyflow\u001B[0m \u001B[0;32mas\u001B[0m \u001B[0mef\u001B[0m\u001B[0;34m\u001B[0m\u001B[0;34m\u001B[0m\u001B[0m\n\u001B[0m",
      "\u001B[0;31mModuleNotFoundError\u001B[0m: No module named 'energyflow'"
     ]
    }
   ],
   "source": [
    "import energyflow as ef"
   ],
   "metadata": {
    "collapsed": false,
    "pycharm": {
     "name": "#%%\n"
    }
   }
  },
  {
   "cell_type": "code",
   "execution_count": null,
   "outputs": [],
   "source": [],
   "metadata": {
    "collapsed": false,
    "pycharm": {
     "name": "#%%\n"
    }
   }
  }
 ],
 "metadata": {
  "kernelspec": {
   "display_name": "Python 3",
   "language": "python",
   "name": "python3"
  },
  "language_info": {
   "codemirror_mode": {
    "name": "ipython",
    "version": 2
   },
   "file_extension": ".py",
   "mimetype": "text/x-python",
   "name": "python",
   "nbconvert_exporter": "python",
   "pygments_lexer": "ipython2",
   "version": "2.7.6"
  }
 },
 "nbformat": 4,
 "nbformat_minor": 0
}